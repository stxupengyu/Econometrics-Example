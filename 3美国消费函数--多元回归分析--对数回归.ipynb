{
 "cells": [
  {
   "cell_type": "code",
   "execution_count": 1,
   "metadata": {
    "collapsed": true
   },
   "outputs": [],
   "source": [
    "import numpy as np \n",
    "import pandas as pd\n",
    "import statsmodels.formula.api as smf\n",
    "import matplotlib.pyplot as plt\n",
    "%matplotlib inline"
   ]
  },
  {
   "cell_type": "code",
   "execution_count": 2,
   "metadata": {
    "collapsed": true
   },
   "outputs": [],
   "source": [
    "df=pd.read_excel('data/美国消费函数.xls')"
   ]
  },
  {
   "cell_type": "code",
   "execution_count": 3,
   "metadata": {},
   "outputs": [
    {
     "data": {
      "text/html": [
       "<div>\n",
       "<style>\n",
       "    .dataframe thead tr:only-child th {\n",
       "        text-align: right;\n",
       "    }\n",
       "\n",
       "    .dataframe thead th {\n",
       "        text-align: left;\n",
       "    }\n",
       "\n",
       "    .dataframe tbody tr th {\n",
       "        vertical-align: top;\n",
       "    }\n",
       "</style>\n",
       "<table border=\"1\" class=\"dataframe\">\n",
       "  <thead>\n",
       "    <tr style=\"text-align: right;\">\n",
       "      <th></th>\n",
       "      <th>Year</th>\n",
       "      <th>C</th>\n",
       "      <th>Yd</th>\n",
       "      <th>W</th>\n",
       "      <th>I</th>\n",
       "    </tr>\n",
       "  </thead>\n",
       "  <tbody>\n",
       "    <tr>\n",
       "      <th>0</th>\n",
       "      <td>1947</td>\n",
       "      <td>976.4</td>\n",
       "      <td>1035.2</td>\n",
       "      <td>5166.815</td>\n",
       "      <td>-10.350940</td>\n",
       "    </tr>\n",
       "    <tr>\n",
       "      <th>1</th>\n",
       "      <td>1948</td>\n",
       "      <td>998.1</td>\n",
       "      <td>1090.0</td>\n",
       "      <td>5280.757</td>\n",
       "      <td>-4.719804</td>\n",
       "    </tr>\n",
       "    <tr>\n",
       "      <th>2</th>\n",
       "      <td>1949</td>\n",
       "      <td>1025.3</td>\n",
       "      <td>1095.6</td>\n",
       "      <td>5607.351</td>\n",
       "      <td>1.044063</td>\n",
       "    </tr>\n",
       "    <tr>\n",
       "      <th>3</th>\n",
       "      <td>1950</td>\n",
       "      <td>1090.9</td>\n",
       "      <td>1192.7</td>\n",
       "      <td>5759.515</td>\n",
       "      <td>0.407346</td>\n",
       "    </tr>\n",
       "    <tr>\n",
       "      <th>4</th>\n",
       "      <td>1951</td>\n",
       "      <td>1107.1</td>\n",
       "      <td>1227.0</td>\n",
       "      <td>6086.056</td>\n",
       "      <td>-5.283152</td>\n",
       "    </tr>\n",
       "  </tbody>\n",
       "</table>\n",
       "</div>"
      ],
      "text/plain": [
       "   Year       C      Yd         W          I\n",
       "0  1947   976.4  1035.2  5166.815 -10.350940\n",
       "1  1948   998.1  1090.0  5280.757  -4.719804\n",
       "2  1949  1025.3  1095.6  5607.351   1.044063\n",
       "3  1950  1090.9  1192.7  5759.515   0.407346\n",
       "4  1951  1107.1  1227.0  6086.056  -5.283152"
      ]
     },
     "execution_count": 3,
     "metadata": {},
     "output_type": "execute_result"
    }
   ],
   "source": [
    "df.head()"
   ]
  },
  {
   "cell_type": "markdown",
   "metadata": {},
   "source": [
    "C 真实消费支出\n",
    "\n",
    "Yd真实个人可支配收入\n",
    "\n",
    "W 真实财富\n",
    "\n",
    "真实利率I\n",
    "\n",
    "第十章数据 表7-12"
   ]
  },
  {
   "cell_type": "code",
   "execution_count": 4,
   "metadata": {},
   "outputs": [
    {
     "name": "stdout",
     "output_type": "stream",
     "text": [
      "<class 'pandas.core.frame.DataFrame'>\n",
      "RangeIndex: 54 entries, 0 to 53\n",
      "Data columns (total 5 columns):\n",
      "Year    54 non-null int64\n",
      "C       54 non-null float64\n",
      "Yd      54 non-null float64\n",
      "W       54 non-null float64\n",
      "I       54 non-null float64\n",
      "dtypes: float64(4), int64(1)\n",
      "memory usage: 2.2 KB\n"
     ]
    }
   ],
   "source": [
    "df.info()"
   ]
  },
  {
   "cell_type": "markdown",
   "metadata": {},
   "source": [
    "建立模型 \n",
    "$lnC_i=\\beta_1+\\beta_2lnYd_i+\\beta_3lnW_i+u_i$"
   ]
  },
  {
   "cell_type": "code",
   "execution_count": 5,
   "metadata": {
    "collapsed": true
   },
   "outputs": [],
   "source": [
    "results = smf.ols('np.log(C) ~ 1 +np.log(Yd)+np.log(W)+I', data=df).fit()"
   ]
  },
  {
   "cell_type": "code",
   "execution_count": 6,
   "metadata": {},
   "outputs": [
    {
     "name": "stdout",
     "output_type": "stream",
     "text": [
      "                            OLS Regression Results                            \n",
      "==============================================================================\n",
      "Dep. Variable:              np.log(C)   R-squared:                       1.000\n",
      "Model:                            OLS   Adj. R-squared:                  1.000\n",
      "Method:                 Least Squares   F-statistic:                 3.783e+04\n",
      "Date:                Mon, 02 Apr 2018   Prob (F-statistic):           7.12e-84\n",
      "Time:                        20:01:35   Log-Likelihood:                 164.59\n",
      "No. Observations:                  54   AIC:                            -321.2\n",
      "Df Residuals:                      50   BIC:                            -313.2\n",
      "Df Model:                           3                                         \n",
      "Covariance Type:            nonrobust                                         \n",
      "==============================================================================\n",
      "                 coef    std err          t      P>|t|      [0.025      0.975]\n",
      "------------------------------------------------------------------------------\n",
      "Intercept     -0.4677      0.043    -10.933      0.000      -0.554      -0.382\n",
      "np.log(Yd)     0.8049      0.017     45.998      0.000       0.770       0.840\n",
      "np.log(W)      0.2013      0.018     11.441      0.000       0.166       0.237\n",
      "I             -0.0027      0.001     -3.529      0.001      -0.004      -0.001\n",
      "==============================================================================\n",
      "Omnibus:                        1.995   Durbin-Watson:                   1.289\n",
      "Prob(Omnibus):                  0.369   Jarque-Bera (JB):                1.806\n",
      "Skew:                           0.438   Prob(JB):                        0.405\n",
      "Kurtosis:                       2.811   Cond. No.                         357.\n",
      "==============================================================================\n",
      "\n",
      "Warnings:\n",
      "[1] Standard Errors assume that the covariance matrix of the errors is correctly specified.\n"
     ]
    }
   ],
   "source": [
    "print(results.summary()) #P353"
   ]
  },
  {
   "cell_type": "code",
   "execution_count": 9,
   "metadata": {},
   "outputs": [
    {
     "data": {
      "text/plain": [
       "-0.5537"
      ]
     },
     "execution_count": 9,
     "metadata": {},
     "output_type": "execute_result"
    }
   ],
   "source": [
    "-0.4677-2*0.043"
   ]
  },
  {
   "cell_type": "code",
   "execution_count": 11,
   "metadata": {},
   "outputs": [
    {
     "data": {
      "text/plain": [
       "0.8389"
      ]
     },
     "execution_count": 11,
     "metadata": {},
     "output_type": "execute_result"
    }
   ],
   "source": [
    "0.8049+2*0.017"
   ]
  },
  {
   "cell_type": "markdown",
   "metadata": {},
   "source": [
    "区间估计等于回归值加减两个标准误"
   ]
  },
  {
   "cell_type": "markdown",
   "metadata": {},
   "source": [
    "所有的统计系数都是高度显著的，因为他们的P值都极小\n",
    "\n",
    "收入弹性约等于0.80，即在其他变量保持不变的情况下，如果收入增加1%，则消费支出平均约增加0.8%\n",
    "\n",
    "财富弹性约等于0.20，在保持其它变量不变的情况下，如果财富增加1%，平均消费将增加约0.2%。\n",
    "\n",
    "如果利率上调1个百分点(注意它的1单位是1个百分点)，保持其它条件不变，消费支出将下降约0.26% （半弹性）\n",
    "\n",
    "所有回归元的符号都与先验预期一致，即收入与财富对消费有正影响，而利率对消费有负影响。\n",
    "\n",
    "在这个例子中我们有必要担心<font color=red>多重共线性</font>的问题吗?\n",
    "\n",
    "\n",
    "<font color=red>显然没必要</font>\n",
    "\n",
    "因为所有的系数都具有正确的符号，每个系数又是个别统计显著的，\n",
    "F值也统计显著，表明所有变量共同对消费有影响，调整$R^2=1$非常高，表明模型拟合非常好\n",
    "\n"
   ]
  },
  {
   "cell_type": "code",
   "execution_count": null,
   "metadata": {
    "collapsed": true
   },
   "outputs": [],
   "source": []
  }
 ],
 "metadata": {
  "kernelspec": {
   "display_name": "Python 3",
   "language": "python",
   "name": "python3"
  },
  "language_info": {
   "codemirror_mode": {
    "name": "ipython",
    "version": 3
   },
   "file_extension": ".py",
   "mimetype": "text/x-python",
   "name": "python",
   "nbconvert_exporter": "python",
   "pygments_lexer": "ipython3",
   "version": "3.7.3"
  }
 },
 "nbformat": 4,
 "nbformat_minor": 2
}
