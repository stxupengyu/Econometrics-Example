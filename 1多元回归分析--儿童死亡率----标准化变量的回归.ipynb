{
 "cells": [
  {
   "cell_type": "markdown",
   "metadata": {
    "collapsed": true
   },
   "source": [
    "### 儿童死亡率--多元回归分析"
   ]
  },
  {
   "cell_type": "markdown",
   "metadata": {},
   "source": [
    "数据解释：<br/>\n",
    "CM：每千人中不足五岁便死亡的人数<br/>\n",
    "PGNP:人均GDP<br/>\n",
    "FLR：妇女识字率<br/>\n",
    "计量经济学第五版P218<br/>"
   ]
  },
  {
   "cell_type": "code",
   "execution_count": 9,
   "metadata": {
    "collapsed": true
   },
   "outputs": [],
   "source": [
    "import numpy as np \n",
    "import pandas as pd\n",
    "import statsmodels.formula.api as smf\n",
    "import matplotlib.pyplot as plt\n",
    "%matplotlib inline"
   ]
  },
  {
   "cell_type": "code",
   "execution_count": 10,
   "metadata": {
    "collapsed": true
   },
   "outputs": [],
   "source": [
    "df=pd.read_excel('data/儿童死亡率.xls')"
   ]
  },
  {
   "cell_type": "code",
   "execution_count": 11,
   "metadata": {},
   "outputs": [
    {
     "name": "stdout",
     "output_type": "stream",
     "text": [
      "<class 'pandas.core.frame.DataFrame'>\n",
      "RangeIndex: 64 entries, 0 to 63\n",
      "Data columns (total 4 columns):\n",
      "CM      64 non-null int64\n",
      "FLR     64 non-null int64\n",
      "PGNP    64 non-null int64\n",
      "TFR     64 non-null float64\n",
      "dtypes: float64(1), int64(3)\n",
      "memory usage: 2.1 KB\n"
     ]
    }
   ],
   "source": [
    "df.info()"
   ]
  },
  {
   "cell_type": "code",
   "execution_count": 12,
   "metadata": {},
   "outputs": [
    {
     "data": {
      "text/html": [
       "<div>\n",
       "<style>\n",
       "    .dataframe thead tr:only-child th {\n",
       "        text-align: right;\n",
       "    }\n",
       "\n",
       "    .dataframe thead th {\n",
       "        text-align: left;\n",
       "    }\n",
       "\n",
       "    .dataframe tbody tr th {\n",
       "        vertical-align: top;\n",
       "    }\n",
       "</style>\n",
       "<table border=\"1\" class=\"dataframe\">\n",
       "  <thead>\n",
       "    <tr style=\"text-align: right;\">\n",
       "      <th></th>\n",
       "      <th>CM</th>\n",
       "      <th>FLR</th>\n",
       "      <th>PGNP</th>\n",
       "      <th>TFR</th>\n",
       "    </tr>\n",
       "  </thead>\n",
       "  <tbody>\n",
       "    <tr>\n",
       "      <th>count</th>\n",
       "      <td>64.000000</td>\n",
       "      <td>64.000000</td>\n",
       "      <td>64.000000</td>\n",
       "      <td>64.000000</td>\n",
       "    </tr>\n",
       "    <tr>\n",
       "      <th>mean</th>\n",
       "      <td>141.500000</td>\n",
       "      <td>51.187500</td>\n",
       "      <td>1401.250000</td>\n",
       "      <td>5.549687</td>\n",
       "    </tr>\n",
       "    <tr>\n",
       "      <th>std</th>\n",
       "      <td>75.978067</td>\n",
       "      <td>26.007859</td>\n",
       "      <td>2725.695775</td>\n",
       "      <td>1.508993</td>\n",
       "    </tr>\n",
       "    <tr>\n",
       "      <th>min</th>\n",
       "      <td>12.000000</td>\n",
       "      <td>9.000000</td>\n",
       "      <td>120.000000</td>\n",
       "      <td>1.690000</td>\n",
       "    </tr>\n",
       "    <tr>\n",
       "      <th>25%</th>\n",
       "      <td>82.000000</td>\n",
       "      <td>29.000000</td>\n",
       "      <td>300.000000</td>\n",
       "      <td>4.607500</td>\n",
       "    </tr>\n",
       "    <tr>\n",
       "      <th>50%</th>\n",
       "      <td>138.500000</td>\n",
       "      <td>48.000000</td>\n",
       "      <td>620.000000</td>\n",
       "      <td>6.040000</td>\n",
       "    </tr>\n",
       "    <tr>\n",
       "      <th>75%</th>\n",
       "      <td>192.500000</td>\n",
       "      <td>77.250000</td>\n",
       "      <td>1317.500000</td>\n",
       "      <td>6.615000</td>\n",
       "    </tr>\n",
       "    <tr>\n",
       "      <th>max</th>\n",
       "      <td>312.000000</td>\n",
       "      <td>95.000000</td>\n",
       "      <td>19830.000000</td>\n",
       "      <td>8.490000</td>\n",
       "    </tr>\n",
       "  </tbody>\n",
       "</table>\n",
       "</div>"
      ],
      "text/plain": [
       "               CM        FLR          PGNP        TFR\n",
       "count   64.000000  64.000000     64.000000  64.000000\n",
       "mean   141.500000  51.187500   1401.250000   5.549687\n",
       "std     75.978067  26.007859   2725.695775   1.508993\n",
       "min     12.000000   9.000000    120.000000   1.690000\n",
       "25%     82.000000  29.000000    300.000000   4.607500\n",
       "50%    138.500000  48.000000    620.000000   6.040000\n",
       "75%    192.500000  77.250000   1317.500000   6.615000\n",
       "max    312.000000  95.000000  19830.000000   8.490000"
      ]
     },
     "execution_count": 12,
     "metadata": {},
     "output_type": "execute_result"
    }
   ],
   "source": [
    "df.describe()"
   ]
  },
  {
   "cell_type": "code",
   "execution_count": 13,
   "metadata": {},
   "outputs": [
    {
     "data": {
      "text/html": [
       "<div>\n",
       "<style>\n",
       "    .dataframe thead tr:only-child th {\n",
       "        text-align: right;\n",
       "    }\n",
       "\n",
       "    .dataframe thead th {\n",
       "        text-align: left;\n",
       "    }\n",
       "\n",
       "    .dataframe tbody tr th {\n",
       "        vertical-align: top;\n",
       "    }\n",
       "</style>\n",
       "<table border=\"1\" class=\"dataframe\">\n",
       "  <thead>\n",
       "    <tr style=\"text-align: right;\">\n",
       "      <th></th>\n",
       "      <th>CM</th>\n",
       "      <th>FLR</th>\n",
       "      <th>PGNP</th>\n",
       "      <th>TFR</th>\n",
       "    </tr>\n",
       "  </thead>\n",
       "  <tbody>\n",
       "    <tr>\n",
       "      <th>0</th>\n",
       "      <td>128</td>\n",
       "      <td>37</td>\n",
       "      <td>1870</td>\n",
       "      <td>6.66</td>\n",
       "    </tr>\n",
       "    <tr>\n",
       "      <th>1</th>\n",
       "      <td>204</td>\n",
       "      <td>22</td>\n",
       "      <td>130</td>\n",
       "      <td>6.15</td>\n",
       "    </tr>\n",
       "    <tr>\n",
       "      <th>2</th>\n",
       "      <td>202</td>\n",
       "      <td>16</td>\n",
       "      <td>310</td>\n",
       "      <td>7.00</td>\n",
       "    </tr>\n",
       "    <tr>\n",
       "      <th>3</th>\n",
       "      <td>197</td>\n",
       "      <td>65</td>\n",
       "      <td>570</td>\n",
       "      <td>6.25</td>\n",
       "    </tr>\n",
       "    <tr>\n",
       "      <th>4</th>\n",
       "      <td>96</td>\n",
       "      <td>76</td>\n",
       "      <td>2050</td>\n",
       "      <td>3.81</td>\n",
       "    </tr>\n",
       "  </tbody>\n",
       "</table>\n",
       "</div>"
      ],
      "text/plain": [
       "    CM  FLR  PGNP   TFR\n",
       "0  128   37  1870  6.66\n",
       "1  204   22   130  6.15\n",
       "2  202   16   310  7.00\n",
       "3  197   65   570  6.25\n",
       "4   96   76  2050  3.81"
      ]
     },
     "execution_count": 13,
     "metadata": {},
     "output_type": "execute_result"
    }
   ],
   "source": [
    "df.head()"
   ]
  },
  {
   "cell_type": "markdown",
   "metadata": {},
   "source": [
    "### 双变量回归分析--儿童死亡率与人均GNP"
   ]
  },
  {
   "cell_type": "code",
   "execution_count": 14,
   "metadata": {},
   "outputs": [
    {
     "data": {
      "text/plain": [
       "<matplotlib.axes._subplots.AxesSubplot at 0x1179b3860>"
      ]
     },
     "execution_count": 14,
     "metadata": {},
     "output_type": "execute_result"
    },
    {
     "data": {
      "image/png": "[encoded data removed]",
      "text/plain": [
       "<matplotlib.figure.Figure at 0x1140551d0>"
      ]
     },
     "metadata": {},
     "output_type": "display_data"
    }
   ],
   "source": [
    "#注意看有两个异常值\n",
    "df.plot(kind='scatter',x='PGNP',y='CM',c='blue',s=100,alpha=0.5)"
   ]
  },
  {
   "cell_type": "code",
   "execution_count": 15,
   "metadata": {
    "collapsed": true
   },
   "outputs": [],
   "source": [
    "results = smf.ols('CM ~ 1 +PGNP', data=df).fit()"
   ]
  },
  {
   "cell_type": "code",
   "execution_count": 16,
   "metadata": {},
   "outputs": [
    {
     "name": "stdout",
     "output_type": "stream",
     "text": [
      "                            OLS Regression Results                            \n",
      "==============================================================================\n",
      "Dep. Variable:                     CM   R-squared:                       0.166\n",
      "Model:                            OLS   Adj. R-squared:                  0.153\n",
      "Method:                 Least Squares   F-statistic:                     12.36\n",
      "Date:                Wed, 28 Mar 2018   Prob (F-statistic):           0.000826\n",
      "Time:                        21:48:05   Log-Likelihood:                -361.64\n",
      "No. Observations:                  64   AIC:                             727.3\n",
      "Df Residuals:                      62   BIC:                             731.6\n",
      "Df Model:                           1                                         \n",
      "Covariance Type:            nonrobust                                         \n",
      "==============================================================================\n",
      "                 coef    std err          t      P>|t|      [0.025      0.975]\n",
      "------------------------------------------------------------------------------\n",
      "Intercept    157.4244      9.846     15.989      0.000     137.743     177.105\n",
      "PGNP          -0.0114      0.003     -3.516      0.001      -0.018      -0.005\n",
      "==============================================================================\n",
      "Omnibus:                        3.321   Durbin-Watson:                   1.931\n",
      "Prob(Omnibus):                  0.190   Jarque-Bera (JB):                2.545\n",
      "Skew:                           0.345   Prob(JB):                        0.280\n",
      "Kurtosis:                       2.309   Cond. No.                     3.43e+03\n",
      "==============================================================================\n",
      "\n",
      "Warnings:\n",
      "[1] Standard Errors assume that the covariance matrix of the errors is correctly specified.\n",
      "[2] The condition number is large, 3.43e+03. This might indicate that there are\n",
      "strong multicollinearity or other numerical problems.\n"
     ]
    }
   ],
   "source": [
    "print(results.summary())"
   ]
  },
  {
   "cell_type": "markdown",
   "metadata": {},
   "source": [
    "#回归方程\n",
    "CM=157.4244 -0.0114*PGNP"
   ]
  },
  {
   "cell_type": "markdown",
   "metadata": {},
   "source": [
    "PGNP的系数为-0.0114，与预期一致，对CM有负影响，人均GNP每提高1单位，CM将减少0.0114单位\n",
    "t=-3.516，p=0.001,均显著，表明PGNP对CM有影响，应该包含在模型当中。\n",
    "####  R2为0.166，说明儿童死亡率的变异中，有16.6%可由PGNP来解释，这个R2并不高，说明模型拟合效果一般。\n",
    "#### 雅克-贝拉检验表明：JB统计量2.545，在正态性假定下，得到这样一个统计量的概率为28%。不拒绝残差项\n",
    "#### 是正态分布的假设。"
   ]
  },
  {
   "cell_type": "markdown",
   "metadata": {},
   "source": [
    "#### F-statistic:12.36，Prob (F-statistic):0.000826，拒绝人均GNP对儿童死亡率没有影响的假设"
   ]
  },
  {
   "cell_type": "code",
   "execution_count": 17,
   "metadata": {},
   "outputs": [
    {
     "data": {
      "image/png": "[encoded data removed]",
      "text/plain": [
       "<matplotlib.figure.Figure at 0x1174bf908>"
      ]
     },
     "metadata": {},
     "output_type": "display_data"
    }
   ],
   "source": [
    "def getChineseFont():  \n",
    "    return FontProperties(fname='/System/Library/Fonts/PingFang.ttc') \n",
    "from matplotlib.font_manager import FontManager, FontProperties  \n",
    "x=df.PGNP.values\n",
    "y=df.CM.values\n",
    "fig, ax = plt.subplots(figsize=(8,6))\n",
    "ax.plot(x, y, 'bo', label=\"data\") #蓝色圈圈\n",
    "ax.plot(x, results.predict(), 'r--', label=\"OLS\")\n",
    "ax.legend(loc='best') #loc='best' 最佳位置\n",
    "ax.set_title('回归方程:CM=157.4244 -0.0114*PGNP',fontproperties=getChineseFont())\n",
    "ax.set_ylabel('儿童死亡率:CM',fontproperties=getChineseFont())\n",
    "ax.set_xlabel('人均GNP:PGNP',fontproperties=getChineseFont())\n",
    "plt.show()"
   ]
  },
  {
   "cell_type": "markdown",
   "metadata": {},
   "source": [
    "从上图可以看出异常值对模型的影响非常大，因此使用普通最小二乘法建模时，先要清洗一下异常值"
   ]
  },
  {
   "cell_type": "markdown",
   "metadata": {},
   "source": [
    "### 去除两个异常值之后的回归"
   ]
  },
  {
   "cell_type": "code",
   "execution_count": 18,
   "metadata": {},
   "outputs": [
    {
     "data": {
      "text/html": [
       "<div>\n",
       "<style>\n",
       "    .dataframe thead tr:only-child th {\n",
       "        text-align: right;\n",
       "    }\n",
       "\n",
       "    .dataframe thead th {\n",
       "        text-align: left;\n",
       "    }\n",
       "\n",
       "    .dataframe tbody tr th {\n",
       "        vertical-align: top;\n",
       "    }\n",
       "</style>\n",
       "<table border=\"1\" class=\"dataframe\">\n",
       "  <thead>\n",
       "    <tr style=\"text-align: right;\">\n",
       "      <th></th>\n",
       "      <th>CM</th>\n",
       "      <th>FLR</th>\n",
       "      <th>PGNP</th>\n",
       "      <th>TFR</th>\n",
       "    </tr>\n",
       "  </thead>\n",
       "  <tbody>\n",
       "    <tr>\n",
       "      <th>29</th>\n",
       "      <td>27</td>\n",
       "      <td>63</td>\n",
       "      <td>19830</td>\n",
       "      <td>5.23</td>\n",
       "    </tr>\n",
       "    <tr>\n",
       "      <th>32</th>\n",
       "      <td>142</td>\n",
       "      <td>50</td>\n",
       "      <td>8640</td>\n",
       "      <td>7.17</td>\n",
       "    </tr>\n",
       "    <tr>\n",
       "      <th>52</th>\n",
       "      <td>12</td>\n",
       "      <td>79</td>\n",
       "      <td>4430</td>\n",
       "      <td>1.69</td>\n",
       "    </tr>\n",
       "    <tr>\n",
       "      <th>57</th>\n",
       "      <td>28</td>\n",
       "      <td>95</td>\n",
       "      <td>4370</td>\n",
       "      <td>2.86</td>\n",
       "    </tr>\n",
       "    <tr>\n",
       "      <th>23</th>\n",
       "      <td>12</td>\n",
       "      <td>81</td>\n",
       "      <td>4240</td>\n",
       "      <td>1.80</td>\n",
       "    </tr>\n",
       "  </tbody>\n",
       "</table>\n",
       "</div>"
      ],
      "text/plain": [
       "     CM  FLR   PGNP   TFR\n",
       "29   27   63  19830  5.23\n",
       "32  142   50   8640  7.17\n",
       "52   12   79   4430  1.69\n",
       "57   28   95   4370  2.86\n",
       "23   12   81   4240  1.80"
      ]
     },
     "execution_count": 18,
     "metadata": {},
     "output_type": "execute_result"
    }
   ],
   "source": [
    "df.sort_values(by='PGNP',ascending=False).head()"
   ]
  },
  {
   "cell_type": "code",
   "execution_count": 19,
   "metadata": {
    "collapsed": true
   },
   "outputs": [],
   "source": [
    "df=df[df.PGNP<8000]"
   ]
  },
  {
   "cell_type": "code",
   "execution_count": 20,
   "metadata": {},
   "outputs": [
    {
     "data": {
      "text/plain": [
       "<matplotlib.axes._subplots.AxesSubplot at 0x117b77e48>"
      ]
     },
     "execution_count": 20,
     "metadata": {},
     "output_type": "execute_result"
    },
    {
     "data": {
      "image/png": "[encoded data removed]",
      "text/plain": [
       "<matplotlib.figure.Figure at 0x1179eed30>"
      ]
     },
     "metadata": {},
     "output_type": "display_data"
    }
   ],
   "source": [
    "df.plot(kind='scatter',x='PGNP',y='CM',c='red')"
   ]
  },
  {
   "cell_type": "code",
   "execution_count": 21,
   "metadata": {
    "collapsed": true
   },
   "outputs": [],
   "source": [
    "results = smf.ols('CM ~ 1 +PGNP', data=df).fit()"
   ]
  },
  {
   "cell_type": "code",
   "execution_count": 22,
   "metadata": {},
   "outputs": [
    {
     "name": "stdout",
     "output_type": "stream",
     "text": [
      "                            OLS Regression Results                            \n",
      "==============================================================================\n",
      "Dep. Variable:                     CM   R-squared:                       0.437\n",
      "Model:                            OLS   Adj. R-squared:                  0.428\n",
      "Method:                 Least Squares   F-statistic:                     46.62\n",
      "Date:                Wed, 28 Mar 2018   Prob (F-statistic):           4.91e-09\n",
      "Time:                        21:48:06   Log-Likelihood:                -337.98\n",
      "No. Observations:                  62   AIC:                             680.0\n",
      "Df Residuals:                      60   BIC:                             684.2\n",
      "Df Model:                           1                                         \n",
      "Covariance Type:            nonrobust                                         \n",
      "==============================================================================\n",
      "                 coef    std err          t      P>|t|      [0.025      0.975]\n",
      "------------------------------------------------------------------------------\n",
      "Intercept    191.1177     10.098     18.927      0.000     170.919     211.316\n",
      "PGNP          -0.0484      0.007     -6.828      0.000      -0.063      -0.034\n",
      "==============================================================================\n",
      "Omnibus:                        0.136   Durbin-Watson:                   1.905\n",
      "Prob(Omnibus):                  0.934   Jarque-Bera (JB):                0.184\n",
      "Skew:                           0.103   Prob(JB):                        0.912\n",
      "Kurtosis:                       2.832   Cond. No.                     1.98e+03\n",
      "==============================================================================\n",
      "\n",
      "Warnings:\n",
      "[1] Standard Errors assume that the covariance matrix of the errors is correctly specified.\n",
      "[2] The condition number is large, 1.98e+03. This might indicate that there are\n",
      "strong multicollinearity or other numerical problems.\n"
     ]
    }
   ],
   "source": [
    "print(results.summary())"
   ]
  },
  {
   "cell_type": "markdown",
   "metadata": {},
   "source": [
    "常数项系数：157.4244 增加到 191.1177 \n",
    "PGNP:-0.0114   增加到  -0.0484\n",
    "r方由0.166增加到0.437\n",
    "普通最小二乘法对异常值异常敏感"
   ]
  },
  {
   "cell_type": "markdown",
   "metadata": {},
   "source": [
    "### 儿童死亡率与妇女识字率"
   ]
  },
  {
   "cell_type": "code",
   "execution_count": 23,
   "metadata": {},
   "outputs": [
    {
     "data": {
      "text/plain": [
       "<matplotlib.axes._subplots.AxesSubplot at 0x117cefa20>"
      ]
     },
     "execution_count": 23,
     "metadata": {},
     "output_type": "execute_result"
    },
    {
     "data": {
      "image/png": "[encoded data removed]",
      "text/plain": [
       "<matplotlib.figure.Figure at 0x117cd9048>"
      ]
     },
     "metadata": {},
     "output_type": "display_data"
    }
   ],
   "source": [
    "df.plot(kind='scatter',x='FLR',y='CM',c='blue',s=100,alpha=0.5)"
   ]
  },
  {
   "cell_type": "code",
   "execution_count": 24,
   "metadata": {
    "collapsed": true
   },
   "outputs": [],
   "source": [
    "results = smf.ols('CM ~ 1 +FLR', data=df).fit()"
   ]
  },
  {
   "cell_type": "code",
   "execution_count": 25,
   "metadata": {},
   "outputs": [
    {
     "name": "stdout",
     "output_type": "stream",
     "text": [
      "                            OLS Regression Results                            \n",
      "==============================================================================\n",
      "Dep. Variable:                     CM   R-squared:                       0.679\n",
      "Model:                            OLS   Adj. R-squared:                  0.673\n",
      "Method:                 Least Squares   F-statistic:                     126.8\n",
      "Date:                Wed, 28 Mar 2018   Prob (F-statistic):           1.99e-16\n",
      "Time:                        21:48:06   Log-Likelihood:                -320.60\n",
      "No. Observations:                  62   AIC:                             645.2\n",
      "Df Residuals:                      60   BIC:                             649.5\n",
      "Df Model:                           1                                         \n",
      "Covariance Type:            nonrobust                                         \n",
      "==============================================================================\n",
      "                 coef    std err          t      P>|t|      [0.025      0.975]\n",
      "------------------------------------------------------------------------------\n",
      "Intercept    264.0537     12.051     21.911      0.000     239.948     288.159\n",
      "FLR           -2.3662      0.210    -11.258      0.000      -2.787      -1.946\n",
      "==============================================================================\n",
      "Omnibus:                        0.683   Durbin-Watson:                   2.259\n",
      "Prob(Omnibus):                  0.711   Jarque-Bera (JB):                0.610\n",
      "Skew:                           0.234   Prob(JB):                        0.737\n",
      "Kurtosis:                       2.866   Cond. No.                         126.\n",
      "==============================================================================\n",
      "\n",
      "Warnings:\n",
      "[1] Standard Errors assume that the covariance matrix of the errors is correctly specified.\n"
     ]
    }
   ],
   "source": [
    "print(results.summary())"
   ]
  },
  {
   "cell_type": "markdown",
   "metadata": {},
   "source": [
    "### 三变量回归分析：儿童死亡率与人均GNP和妇女识字率"
   ]
  },
  {
   "cell_type": "code",
   "execution_count": 26,
   "metadata": {
    "collapsed": true
   },
   "outputs": [],
   "source": [
    "results2 = smf.ols('CM ~ 1 +PGNP+FLR', data=df).fit()"
   ]
  },
  {
   "cell_type": "code",
   "execution_count": 27,
   "metadata": {
    "scrolled": true
   },
   "outputs": [
    {
     "name": "stdout",
     "output_type": "stream",
     "text": [
      "                            OLS Regression Results                            \n",
      "==============================================================================\n",
      "Dep. Variable:                     CM   R-squared:                       0.725\n",
      "Model:                            OLS   Adj. R-squared:                  0.716\n",
      "Method:                 Least Squares   F-statistic:                     77.88\n",
      "Date:                Wed, 28 Mar 2018   Prob (F-statistic):           2.80e-17\n",
      "Time:                        21:48:06   Log-Likelihood:                -315.75\n",
      "No. Observations:                  62   AIC:                             637.5\n",
      "Df Residuals:                      59   BIC:                             643.9\n",
      "Df Model:                           2                                         \n",
      "Covariance Type:            nonrobust                                         \n",
      "==============================================================================\n",
      "                 coef    std err          t      P>|t|      [0.025      0.975]\n",
      "------------------------------------------------------------------------------\n",
      "Intercept    260.1982     11.304     23.019      0.000     237.580     282.816\n",
      "PGNP          -0.0196      0.006     -3.162      0.002      -0.032      -0.007\n",
      "FLR           -1.9116      0.243     -7.865      0.000      -2.398      -1.425\n",
      "==============================================================================\n",
      "Omnibus:                        1.250   Durbin-Watson:                   2.209\n",
      "Prob(Omnibus):                  0.535   Jarque-Bera (JB):                0.792\n",
      "Skew:                           0.269   Prob(JB):                        0.673\n",
      "Kurtosis:                       3.129   Cond. No.                     3.14e+03\n",
      "==============================================================================\n",
      "\n",
      "Warnings:\n",
      "[1] Standard Errors assume that the covariance matrix of the errors is correctly specified.\n",
      "[2] The condition number is large, 3.14e+03. This might indicate that there are\n",
      "strong multicollinearity or other numerical problems.\n"
     ]
    }
   ],
   "source": [
    "print(results2.summary())"
   ]
  },
  {
   "cell_type": "code",
   "execution_count": null,
   "metadata": {
    "collapsed": true
   },
   "outputs": [],
   "source": []
  },
  {
   "cell_type": "markdown",
   "metadata": {},
   "source": [
    "回归方程：CM=260-0.0196PGNP-1.9116FLR"
   ]
  },
  {
   "cell_type": "markdown",
   "metadata": {},
   "source": [
    "PGNP的偏回归系数为-0.0196，与预期一致，对CM有负影响，在保持其它因素不变时，PGNP每提高1单位，CM将减少0.0196个单位\n",
    "与-0.0484相比，PGNP对CM的影响减小了，说明我们的双变量回归模型有设定误差。\n",
    "t=-3.162，p=0.002,均显著，表明PGNP对CM有影响，应该包含在模型当中。\n",
    "如果虚拟假设正确，得到一个小于3.162的t值得概率为0.002.\n",
    "\n",
    "FLR的偏回归系数为-1.916，与预期一致，对CM有负影响，妇女识字率越高，儿童死亡率越低。保持其它因素不变，FLR每提高1单位，CM将减少1.916单位\n",
    "\n",
    "t=-7.865 ，p=0.000,均显著，表明PGNP对CM有影响，应该包含在模型当中。\n",
    "\n",
    "调整R2为 0.716，说明儿童死亡率的变异中，有71.6%可由模型来解释，这个R2很高，说明模型拟合效果很好。\n",
    "雅克-贝拉检验表明：JB统计量0.673，在正态性假定下，得到这样一个统计量的概率为79.2%%。不拒绝残差项是正态分布的假设。\n",
    "注意：JB检验为大样本检验，64次观测可能不够多。\n",
    "skew：残差的偏度，正态分布为0\n",
    "kurtosis：残差的峰度，正态分布为3"
   ]
  },
  {
   "cell_type": "markdown",
   "metadata": {},
   "source": [
    "### 整体显著性检验\n",
    "<p>$H_0:\\beta_1=\\beta_2=0$<p/>\n",
    "<p>F-statistic:73.83,在零假设下，得到这样一个值得概率，<p/>\n",
    "<p>Prob (F-statistic):5.12e-17，认为妇女识字率和人均GNP对儿童死亡率有显著影响<p/>\n"
   ]
  },
  {
   "cell_type": "markdown",
   "metadata": {},
   "source": [
    "### 残差项的分布图"
   ]
  },
  {
   "cell_type": "code",
   "execution_count": 38,
   "metadata": {},
   "outputs": [
    {
     "data": {
      "text/plain": [
       "<matplotlib.axes._subplots.AxesSubplot at 0x1182f2898>"
      ]
     },
     "execution_count": 38,
     "metadata": {},
     "output_type": "execute_result"
    },
    {
     "data": {
      "image/png": "[encoded data removed]",
      "text/plain": [
       "<matplotlib.figure.Figure at 0x118190ba8>"
      ]
     },
     "metadata": {},
     "output_type": "display_data"
    }
   ],
   "source": [
    "#残差看着也不像正态分布呀\n",
    "(df.CM-results.predict()).hist(bins=20)"
   ]
  },
  {
   "cell_type": "markdown",
   "metadata": {},
   "source": [
    "### 如果新增变量的t值在绝对值上大于1,调整$R^2$就会增加"
   ]
  },
  {
   "cell_type": "markdown",
   "metadata": {},
   "source": [
    "### 标准化三变量回归分析"
   ]
  },
  {
   "cell_type": "code",
   "execution_count": 28,
   "metadata": {
    "collapsed": true
   },
   "outputs": [],
   "source": [
    "#对数据标准化，均值为0，标准差为1\n",
    "df=df.apply(lambda x: (x-np.mean(x))/np.std(x))"
   ]
  },
  {
   "cell_type": "code",
   "execution_count": 29,
   "metadata": {},
   "outputs": [
    {
     "data": {
      "text/html": [
       "<div>\n",
       "<style>\n",
       "    .dataframe thead tr:only-child th {\n",
       "        text-align: right;\n",
       "    }\n",
       "\n",
       "    .dataframe thead th {\n",
       "        text-align: left;\n",
       "    }\n",
       "\n",
       "    .dataframe tbody tr th {\n",
       "        vertical-align: top;\n",
       "    }\n",
       "</style>\n",
       "<table border=\"1\" class=\"dataframe\">\n",
       "  <thead>\n",
       "    <tr style=\"text-align: right;\">\n",
       "      <th></th>\n",
       "      <th>CM</th>\n",
       "      <th>FLR</th>\n",
       "      <th>PGNP</th>\n",
       "      <th>TFR</th>\n",
       "    </tr>\n",
       "  </thead>\n",
       "  <tbody>\n",
       "    <tr>\n",
       "      <th>count</th>\n",
       "      <td>6.200000e+01</td>\n",
       "      <td>6.200000e+01</td>\n",
       "      <td>6.200000e+01</td>\n",
       "      <td>6.200000e+01</td>\n",
       "    </tr>\n",
       "    <tr>\n",
       "      <th>mean</th>\n",
       "      <td>-6.009977e-17</td>\n",
       "      <td>-1.432546e-17</td>\n",
       "      <td>2.327887e-17</td>\n",
       "      <td>8.523648e-16</td>\n",
       "    </tr>\n",
       "    <tr>\n",
       "      <th>std</th>\n",
       "      <td>1.008163e+00</td>\n",
       "      <td>1.008163e+00</td>\n",
       "      <td>1.008163e+00</td>\n",
       "      <td>1.008163e+00</td>\n",
       "    </tr>\n",
       "    <tr>\n",
       "      <th>min</th>\n",
       "      <td>-1.747160e+00</td>\n",
       "      <td>-1.605335e+00</td>\n",
       "      <td>-8.443568e-01</td>\n",
       "      <td>-2.548204e+00</td>\n",
       "    </tr>\n",
       "    <tr>\n",
       "      <th>25%</th>\n",
       "      <td>-7.660855e-01</td>\n",
       "      <td>-8.411833e-01</td>\n",
       "      <td>-6.691099e-01</td>\n",
       "      <td>-7.874272e-01</td>\n",
       "    </tr>\n",
       "    <tr>\n",
       "      <th>50%</th>\n",
       "      <td>-6.436792e-02</td>\n",
       "      <td>-1.916542e-01</td>\n",
       "      <td>-4.013717e-01</td>\n",
       "      <td>3.394037e-01</td>\n",
       "    </tr>\n",
       "    <tr>\n",
       "      <th>75%</th>\n",
       "      <td>6.938862e-01</td>\n",
       "      <td>1.021437e+00</td>\n",
       "      <td>2.971815e-01</td>\n",
       "      <td>6.945462e-01</td>\n",
       "    </tr>\n",
       "    <tr>\n",
       "      <th>max</th>\n",
       "      <td>2.243651e+00</td>\n",
       "      <td>1.680518e+00</td>\n",
       "      <td>3.351831e+00</td>\n",
       "      <td>1.965758e+00</td>\n",
       "    </tr>\n",
       "  </tbody>\n",
       "</table>\n",
       "</div>"
      ],
      "text/plain": [
       "                 CM           FLR          PGNP           TFR\n",
       "count  6.200000e+01  6.200000e+01  6.200000e+01  6.200000e+01\n",
       "mean  -6.009977e-17 -1.432546e-17  2.327887e-17  8.523648e-16\n",
       "std    1.008163e+00  1.008163e+00  1.008163e+00  1.008163e+00\n",
       "min   -1.747160e+00 -1.605335e+00 -8.443568e-01 -2.548204e+00\n",
       "25%   -7.660855e-01 -8.411833e-01 -6.691099e-01 -7.874272e-01\n",
       "50%   -6.436792e-02 -1.916542e-01 -4.013717e-01  3.394037e-01\n",
       "75%    6.938862e-01  1.021437e+00  2.971815e-01  6.945462e-01\n",
       "max    2.243651e+00  1.680518e+00  3.351831e+00  1.965758e+00"
      ]
     },
     "execution_count": 29,
     "metadata": {},
     "output_type": "execute_result"
    }
   ],
   "source": [
    "df.describe()"
   ]
  },
  {
   "cell_type": "code",
   "execution_count": 30,
   "metadata": {
    "collapsed": true
   },
   "outputs": [],
   "source": [
    "results3 = smf.ols('CM ~ PGNP+FLR', data=df).fit()#注意没有截距项"
   ]
  },
  {
   "cell_type": "code",
   "execution_count": 31,
   "metadata": {},
   "outputs": [
    {
     "name": "stdout",
     "output_type": "stream",
     "text": [
      "                            OLS Regression Results                            \n",
      "==============================================================================\n",
      "Dep. Variable:                     CM   R-squared:                       0.725\n",
      "Model:                            OLS   Adj. R-squared:                  0.716\n",
      "Method:                 Least Squares   F-statistic:                     77.88\n",
      "Date:                Wed, 28 Mar 2018   Prob (F-statistic):           2.80e-17\n",
      "Time:                        21:48:06   Log-Likelihood:                -47.922\n",
      "No. Observations:                  62   AIC:                             101.8\n",
      "Df Residuals:                      59   BIC:                             108.2\n",
      "Df Model:                           2                                         \n",
      "Covariance Type:            nonrobust                                         \n",
      "==============================================================================\n",
      "                 coef    std err          t      P>|t|      [0.025      0.975]\n",
      "------------------------------------------------------------------------------\n",
      "Intercept  -8.327e-17      0.068  -1.22e-15      1.000      -0.137       0.137\n",
      "PGNP          -0.2676      0.085     -3.162      0.002      -0.437      -0.098\n",
      "FLR           -0.6656      0.085     -7.865      0.000      -0.835      -0.496\n",
      "==============================================================================\n",
      "Omnibus:                        1.250   Durbin-Watson:                   2.209\n",
      "Prob(Omnibus):                  0.535   Jarque-Bera (JB):                0.792\n",
      "Skew:                           0.269   Prob(JB):                        0.673\n",
      "Kurtosis:                       3.129   Cond. No.                         1.97\n",
      "==============================================================================\n",
      "\n",
      "Warnings:\n",
      "[1] Standard Errors assume that the covariance matrix of the errors is correctly specified.\n"
     ]
    }
   ],
   "source": [
    "print(results3.summary())"
   ]
  },
  {
   "cell_type": "markdown",
   "metadata": {},
   "source": [
    "保持其它变量不变，PGNP每提高一个标准差，导致CM平均下降0.2676个标准差。<br/>\n",
    "保持其它变量不变，FLR提高一个标准差，导致CM平均下降0.6656个标准差<br/>\n",
    "相对而言，妇女识字率比人均GNP对儿童死亡率的影响更大。<br/>\n",
    "标准化回归，可以看出哪个变量的影响更大"
   ]
  },
  {
   "cell_type": "code",
   "execution_count": 32,
   "metadata": {},
   "outputs": [
    {
     "data": {
      "text/plain": [
       "-2.2371999999999996"
      ]
     },
     "execution_count": 32,
     "metadata": {},
     "output_type": "execute_result"
    }
   ],
   "source": [
    "#PGNP和FLR同时提高1单位,每1000名儿童中不足5岁便死亡的儿童数约降低2.24人\n",
    "-0.0056*1-2.2316*1"
   ]
  },
  {
   "cell_type": "code",
   "execution_count": null,
   "metadata": {
    "collapsed": true
   },
   "outputs": [],
   "source": []
  }
 ],
 "metadata": {
  "kernelspec": {
   "display_name": "Python 3",
   "language": "python",
   "name": "python3"
  },
  "language_info": {
   "codemirror_mode": {
    "name": "ipython",
    "version": 3
   },
   "file_extension": ".py",
   "mimetype": "text/x-python",
   "name": "python",
   "nbconvert_exporter": "python",
   "pygments_lexer": "ipython3",
   "version": "3.7.3"
  }
 },
 "nbformat": 4,
 "nbformat_minor": 2
}
